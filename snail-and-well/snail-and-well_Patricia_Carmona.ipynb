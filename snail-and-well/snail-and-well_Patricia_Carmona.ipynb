{
 "cells": [
  {
   "cell_type": "markdown",
   "metadata": {},
   "source": [
    "# Snail and well\n",
    "\n",
    "A snail falls at the bottom of a 125 cm well. Each day the snail rises 30 cm. But at night, while sleeping, slides 20 cm because the walls are wet. How many days does it take to escape from the well?\n",
    "\n",
    "TIP: http://puzzles.nigelcoldwell.co.uk/sixtytwo.htm"
   ]
  },
  {
   "cell_type": "markdown",
   "metadata": {},
   "source": [
    "## Solución"
   ]
  },
  {
   "cell_type": "code",
   "execution_count": 1,
   "metadata": {},
   "outputs": [
    {
     "name": "stdout",
     "output_type": "stream",
     "text": [
      "Days = 11\n"
     ]
    }
   ],
   "source": [
    "# Assign problem data to variables with representative names\n",
    "# well height, daily advance, night retreat, accumulated distance\n",
    "well_height = 125\n",
    "daily_distance = 30\n",
    "nightly_distance = 20\n",
    "snail_position = 0\n",
    "\n",
    "# Assign 0 to the variable that represents the solution\n",
    "days = 0\n",
    "\n",
    "# Write the code that solves the problem\n",
    "while snail_position < well_height:\n",
    "    snail_position += daily_distance\n",
    "    days += 1\n",
    "    if snail_position <= well_height: \n",
    "        snail_position -= nightly_distance\n",
    "\n",
    "# Print the result with print('Days =', days)\n",
    "        \n",
    "print(\"Days = \" + str(days))"
   ]
  },
  {
   "cell_type": "markdown",
   "metadata": {},
   "source": [
    "**Expected output**: \n",
    "```\n",
    "Days = 11\n",
    "```"
   ]
  },
  {
   "cell_type": "markdown",
   "metadata": {},
   "source": [
    "## Goals\n",
    "\n",
    "1. Treatment of variables\n",
    "2. Use of loop **while**\n",
    "3. Use of conditional **if-else**\n",
    "4. Print in console"
   ]
  },
  {
   "cell_type": "markdown",
   "metadata": {},
   "source": [
    "## Bonus\n",
    "The distance traveled by the snail is now defined by a list.\n",
    "```\n",
    "advance_cm = [30, 21, 33, 77, 44, 45, 23, 45, 12, 34, 55]\n",
    "```\n",
    "How long does it take to raise the well?\n",
    "\n",
    "What is its maximum displacement in one day? And its minimum?\n",
    "\n",
    "What is its average speed during the day?\n",
    "\n",
    "What is the standard deviation of its displacement during the day?"
   ]
  },
  {
   "cell_type": "code",
   "execution_count": 2,
   "metadata": {},
   "outputs": [
    {
     "name": "stdout",
     "output_type": "stream",
     "text": [
      "Days = 6\n"
     ]
    }
   ],
   "source": [
    "# Assign problem data to variables with representative names\n",
    "# well height, daily advance, night retreat, accumulated distance\n",
    "advance_cm = [30, 21, 33, 77, 44, 45, 23, 45, 12, 34, 55]\n",
    "well_height = 125\n",
    "nightly_distance = 20\n",
    "snail_position = 0\n",
    "total_progress = snail_position + daily_distance\n",
    "\n",
    "# Assign 0 to the variable that represents the solution\n",
    "days = 0 \n",
    "\n",
    "# Write the code that solves the problem\n",
    "while snail_position < well_height:\n",
    "    snail_position += advance_cm[days]\n",
    "    days += 1\n",
    "    if snail_position <= well_height: \n",
    "        snail_position -= nightly_distance\n",
    "\n",
    "\n",
    "# Print the result with print('Days =', days)\n",
    "print(\"Days = \" + str(days))"
   ]
  },
  {
   "cell_type": "markdown",
   "metadata": {},
   "source": [
    "**Expected output**: \n",
    "```\n",
    "Days = 6\n",
    "```"
   ]
  },
  {
   "cell_type": "code",
   "execution_count": 4,
   "metadata": {},
   "outputs": [
    {
     "name": "stdout",
     "output_type": "stream",
     "text": [
      "The maximum displacement is 57\n",
      "The minimum displacement is -8\n",
      "Maximum displacement 77\n",
      "Minimum displacement 12\n"
     ]
    }
   ],
   "source": [
    "# What is its maximum displacement in a day? And its minimum?\n",
    "\n",
    "#In this case I consider displacement as distance - nightly distance\n",
    "\n",
    "displacement = [distance - nightly_distance for distance in advance_cm]\n",
    "\n",
    "maximum_displacement = max(displacement)\n",
    "print(\"The maximum displacement is \" + str(maximum_displacement))\n",
    "\n",
    "minimum_displacement = min(displacement)\n",
    "print(\"The minimum displacement is \" + str(minimum_displacement))\n",
    "\n",
    "#Calculate maximum and minimum displacement without consider nightly distance\n",
    "\n",
    "maximum_displacement_2 = max(advance_cm)\n",
    "print(\"Maximum displacement \" + str(maximum_displacement_2))\n",
    "\n",
    "minimum_displacement_2 = min(advance_cm)\n",
    "print(\"Minimum displacement \" + str(minimum_displacement_2))"
   ]
  },
  {
   "cell_type": "markdown",
   "metadata": {},
   "source": [
    "**Expected output**: \n",
    "```\n",
    "77 12\n",
    "```"
   ]
  },
  {
   "cell_type": "code",
   "execution_count": 6,
   "metadata": {},
   "outputs": [
    {
     "name": "stdout",
     "output_type": "stream",
     "text": [
      "The average progress is 18.09090909090909\n",
      "The average advance is 38.09090909090909\n"
     ]
    }
   ],
   "source": [
    "# What is its average progress?\n",
    "\n",
    "# In this case I consider displacement list created before\n",
    "\n",
    "average_progress = sum(displacement)/len(displacement)\n",
    "\n",
    "print(\"The average progress is \" + str(average_progress))\n",
    "\n",
    "# Without considering nightly distance\n",
    "\n",
    "average_progress_2 = sum(advance_cm)/len(advance_cm)\n",
    "\n",
    "print(\"The average advance is \" + str(average_progress_2))"
   ]
  },
  {
   "cell_type": "markdown",
   "metadata": {},
   "source": [
    "**Expected output**: \n",
    "```\n",
    "38.09090909090909\n",
    "```"
   ]
  },
  {
   "cell_type": "code",
   "execution_count": 7,
   "metadata": {},
   "outputs": [
    {
     "name": "stdout",
     "output_type": "stream",
     "text": [
      "The standard deviation is 17.159437082600803\n"
     ]
    }
   ],
   "source": [
    "# What is the standard deviation of your displacement during the day?\n",
    "sd_list =[]  \n",
    "for i in displacement:\n",
    "    sd_list.append((i - average_progress) ** 2)\n",
    "sd = (sum(sd_list)/len(sd_list)) ** 0.5\n",
    "\n",
    "print(\"The standard deviation is \" + str(sd))"
   ]
  },
  {
   "cell_type": "code",
   "execution_count": 8,
   "metadata": {},
   "outputs": [
    {
     "name": "stdout",
     "output_type": "stream",
     "text": [
      "The standard deviation is 17.159437082600803\n"
     ]
    }
   ],
   "source": [
    "# Standard deviation without consider \"displacement\"\n",
    "sd_list_2 = []\n",
    "for i in advance_cm:\n",
    "    sd_list_2.append((i - average_progress_2) ** 2)\n",
    "sd_2 = (sum(sd_list_2)/len(sd_list_2)) ** 0.5\n",
    "\n",
    "print(\"The standard deviation is \" + str(sd_2))"
   ]
  },
  {
   "cell_type": "markdown",
   "metadata": {},
   "source": [
    "**Expected output**: \n",
    "```\n",
    "17.159437082600803\n",
    "```"
   ]
  }
 ],
 "metadata": {
  "kernelspec": {
   "display_name": "Python 3",
   "language": "python",
   "name": "python3"
  },
  "language_info": {
   "codemirror_mode": {
    "name": "ipython",
    "version": 3
   },
   "file_extension": ".py",
   "mimetype": "text/x-python",
   "name": "python",
   "nbconvert_exporter": "python",
   "pygments_lexer": "ipython3",
   "version": "3.7.4"
  }
 },
 "nbformat": 4,
 "nbformat_minor": 4
}
